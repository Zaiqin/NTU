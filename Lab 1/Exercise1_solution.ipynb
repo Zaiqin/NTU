{
 "cells": [
  {
   "cell_type": "code",
   "execution_count": null,
   "id": "78a28278",
   "metadata": {},
   "outputs": [],
   "source": [
    "# Basic Libraries\n",
    "import numpy as np\n",
    "import pandas as pd\n",
    "import seaborn as sb\n",
    "import matplotlib.pyplot as plt # we only need pyplot\n",
    "sb.set() # set the default Seaborn style for graphics"
   ]
  },
  {
   "cell_type": "markdown",
   "id": "b6f1626c",
   "metadata": {},
   "source": [
    "# Problem 1"
   ]
  },
  {
   "cell_type": "markdown",
   "id": "31f12140",
   "metadata": {},
   "source": [
    "a) Import the “train.csv” data you downloaded (either from NTU Learn or Kaggle) in Jupyter Notebook."
   ]
  },
  {
   "cell_type": "code",
   "execution_count": null,
   "id": "e604a569",
   "metadata": {},
   "outputs": [],
   "source": [
    "csv_data = pd.read_csv('train.csv', header = None)\n",
    "csv_data.head()"
   ]
  },
  {
   "cell_type": "markdown",
   "id": "e343346e",
   "metadata": {},
   "source": [
    "b) How many observations (rows) and variables (columns) are in the above dataset? Check the “shape”."
   ]
  },
  {
   "cell_type": "code",
   "execution_count": null,
   "id": "35a633c1",
   "metadata": {},
   "outputs": [],
   "source": [
    "print(\"Data type : \", type(csv_data))\n",
    "print(\"Data dims : \", csv_data.shape)"
   ]
  },
  {
   "cell_type": "markdown",
   "id": "351c8cd3",
   "metadata": {},
   "source": [
    "c) What are the data types (“dtypes”) – Numeric/Categorical – of the variables (columns) in the dataset?"
   ]
  },
  {
   "cell_type": "code",
   "execution_count": null,
   "id": "c0189588",
   "metadata": {},
   "outputs": [],
   "source": [
    "print(csv_data.dtypes)"
   ]
  },
  {
   "cell_type": "markdown",
   "id": "998a62bd",
   "metadata": {},
   "source": [
    "d) What does the .info() method do? Use the .info() method on the imported dataset to check this out."
   ]
  },
  {
   "cell_type": "code",
   "execution_count": null,
   "id": "6867cd49",
   "metadata": {},
   "outputs": [],
   "source": [
    "csv_data.info()"
   ]
  },
  {
   "cell_type": "markdown",
   "id": "51571be9",
   "metadata": {},
   "source": [
    "e) What does the .describe() method do? Use the .describe() method on the imported dataset to check."
   ]
  },
  {
   "cell_type": "code",
   "execution_count": null,
   "id": "c6def849",
   "metadata": {},
   "outputs": [],
   "source": [
    "csv_data.describe()"
   ]
  },
  {
   "cell_type": "markdown",
   "id": "cd866bf8",
   "metadata": {},
   "source": [
    "# Problem 2"
   ]
  },
  {
   "cell_type": "markdown",
   "id": "72569f68",
   "metadata": {},
   "source": [
    "a) Import the Wikipedia page in Jupyter Notebook (check M1 DataAcquisition.ipynb for hints about this)"
   ]
  },
  {
   "cell_type": "code",
   "execution_count": null,
   "id": "66004208",
   "metadata": {},
   "outputs": [],
   "source": [
    "html_data = pd.read_html('https://en.wikipedia.org/wiki/2016_Summer_Olympics_medal_table')"
   ]
  },
  {
   "cell_type": "markdown",
   "id": "6968ce76",
   "metadata": {},
   "source": [
    "b) How many tables are in this Wikipedia page? Check the “len” of the imported data/page to find this out."
   ]
  },
  {
   "cell_type": "code",
   "execution_count": null,
   "id": "694fba4b",
   "metadata": {},
   "outputs": [],
   "source": [
    "print(\"Data type : \", type(html_data))\n",
    "print(\"HTML tables : \", len(html_data))"
   ]
  },
  {
   "cell_type": "markdown",
   "id": "2b90fb71",
   "metadata": {},
   "source": [
    "c) Which one is the actual “2016 Summer Olympics medal table”? Explore all tables in the data to know."
   ]
  },
  {
   "cell_type": "code",
   "execution_count": null,
   "id": "85524245",
   "metadata": {},
   "outputs": [],
   "source": [
    "html_data[2]"
   ]
  },
  {
   "cell_type": "markdown",
   "id": "436ba2f2",
   "metadata": {},
   "source": [
    "d) Extract the main table, “2016 Summer Olympics medal table”, and store it as a new Pandas DataFrame."
   ]
  },
  {
   "cell_type": "code",
   "execution_count": null,
   "id": "8e73a0a9",
   "metadata": {},
   "outputs": [],
   "source": [
    "medal_table = pd.DataFrame(html_data[2])\n",
    "medal_table"
   ]
  },
  {
   "cell_type": "markdown",
   "id": "504c39a0",
   "metadata": {},
   "source": [
    "e) Extract the TOP 20 countries from the medal table, as above, and store these rows as a new DataFrame."
   ]
  },
  {
   "cell_type": "code",
   "execution_count": null,
   "id": "052f1408",
   "metadata": {},
   "outputs": [],
   "source": [
    "top20 = pd.DataFrame(medal_table.head(20))\n",
    "top20"
   ]
  }
 ],
 "metadata": {
  "kernelspec": {
   "display_name": "Python 3 (ipykernel)",
   "language": "python",
   "name": "python3"
  },
  "language_info": {
   "codemirror_mode": {
    "name": "ipython",
    "version": 3
   },
   "file_extension": ".py",
   "mimetype": "text/x-python",
   "name": "python",
   "nbconvert_exporter": "python",
   "pygments_lexer": "ipython3",
   "version": "3.9.13"
  }
 },
 "nbformat": 4,
 "nbformat_minor": 5
}
